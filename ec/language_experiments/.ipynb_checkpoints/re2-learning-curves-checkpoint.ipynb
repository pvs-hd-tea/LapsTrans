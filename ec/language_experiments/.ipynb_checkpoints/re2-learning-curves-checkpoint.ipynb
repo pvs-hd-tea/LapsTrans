{
 "cells": [
  {
   "cell_type": "code",
   "execution_count": 41,
   "metadata": {},
   "outputs": [],
   "source": [
    "import seaborn as sns\n",
    "import pandas as pd\n",
    "import matplotlib.pyplot as plt\n",
    "import numpy as np\n",
    "from collections import defaultdict"
   ]
  },
  {
   "cell_type": "code",
   "execution_count": 42,
   "metadata": {},
   "outputs": [],
   "source": [
    "\n",
    "# {Legend}, {log}, {Graph Title}\n",
    "FNAME=\"../jobs/re2_learning_curves\"\n",
    "curves = defaultdict(list)\n",
    "with open(FNAME) as f:\n",
    "    lines = [line.strip()for line in f.readlines() if (not line.startswith(\"#\") and len(line.strip()) > 0)]\n",
    "    for line in lines:\n",
    "        legend, log, title = line.split(\",\")\n",
    "        curves[title.strip()].append((legend.strip(), log.strip()))"
   ]
  },
  {
   "cell_type": "code",
   "execution_count": 53,
   "metadata": {},
   "outputs": [
    {
     "name": "stdout",
     "output_type": "stream",
     "text": [
      "Graph: \"Random Curriculum\" with n=1\n",
      "27 56.99999999999999\n",
      "3 32.0\n",
      "6 38.800000000000004\n",
      "9 34.599999999999994\n",
      "12 49.4\n",
      "15 50.4\n",
      "18 49.4\n",
      "21 52.6\n",
      "24 56.39999999999999\n",
      "27 55.800000000000004\n",
      "27 56.99999999999999\n"
     ]
    }
   ],
   "source": [
    "PREFIX = '~/Desktop/zyzzyva/code/ec/'\n",
    "def extract_curves(log_output, max_iter=33, n_tasks = 500):\n",
    "    log_output = log_output.split(\"\\\\n\")\n",
    "    iters = int(len(log_output) / 2)*2\n",
    "    # First remove any doubled lines\n",
    "    cleaned = []\n",
    "    for i in range(len(log_output) - 1):\n",
    "        if \"Evaluating on\" in log_output[i] and not \"Hits\" in log_output[i+1]:\n",
    "            continue\n",
    "        cleaned.append(log_output[i])\n",
    "    log_ouput = cleaned\n",
    "    \n",
    "    x_y = defaultdict(float)\n",
    "    for i in range(0,iters ,2):\n",
    "        try:\n",
    "            iter_line, hits_line = log_output[i], log_output[i+1]\n",
    "            iter = int(iter_line.split(\": \")[-1])\n",
    "            hits = int(hits_line.split()[1].split(\"/\")[0])\n",
    "            if iter < max_iter:\n",
    "                percent = float(hits / n_tasks) * 100\n",
    "                if percent >= x_y[iter]:\n",
    "                    x_y[iter] = percent     \n",
    "        except:\n",
    "            pass\n",
    "    if len(x_y) > 0:\n",
    "        if x_y[0] != 0:\n",
    "            x_y[0] = 0\n",
    "    xs, ys = [], []\n",
    "    for k in sorted(x_y.keys()):\n",
    "        xs.append(k)\n",
    "        ys.append(x_y[k])\n",
    "    \n",
    "    return xs, ys\n",
    "        \n",
    "import subprocess\n",
    "curve_vals = defaultdict(lambda: defaultdict(list))\n",
    "for curve in curves:\n",
    "    print(f\"Graph: {curve} with n={len(curves[curve])}\")\n",
    "    for legend, log in curves[curve]:\n",
    "        p = subprocess.Popen(f\"grep -a 'testing tasks' {PREFIX}{log}\", stdout=subprocess.PIPE, shell=True)\n",
    "        output,_ = p.communicate() \n",
    "        output = str(output)\n",
    "        if len(output.strip()) < 2:\n",
    "            print(f\"No output for: {log}\")\n",
    "        else:\n",
    "            xs, ys = extract_curves(output)\n",
    "            if len(xs) == 0: print(f\"No output for: {log}\")\n",
    "            curve_vals[curve][legend].append((xs, ys))"
   ]
  },
  {
   "cell_type": "code",
   "execution_count": null,
   "metadata": {},
   "outputs": [],
   "source": []
  },
  {
   "cell_type": "code",
   "execution_count": 51,
   "metadata": {},
   "outputs": [
    {
     "name": "stdout",
     "output_type": "stream",
     "text": [
      "Generative Language | Best : 57.0 | Average: 57.0 | \n",
      "\n",
      "\n"
     ]
    }
   ],
   "source": [
    "# Print a table of the best model and the average values for each run\n",
    "for curve in curve_vals:\n",
    "    for legend in curve_vals[curve]:\n",
    "        max_vals = [max(ys) for (xs, ys) in curve_vals[curve][legend] if len(ys) > 0]\n",
    "        if len(max_vals) > 0:\n",
    "            print(f\"{legend} | Best : {round(np.max(max_vals), 2)} | Average: {round(np.mean(max_vals), 2)} | \")\n",
    "    print(\"\\n\")"
   ]
  },
  {
   "cell_type": "code",
   "execution_count": 37,
   "metadata": {},
   "outputs": [],
   "source": [
    "def build_dataframe(curve_vals, curve):\n",
    "    # For a given plot, extract all of the \n",
    "    iterations = []\n",
    "    solved_tasks = []\n",
    "    model = []\n",
    "    for pal_idx, legend in enumerate(curve_vals[curve]):\n",
    "        for xs, ys in curve_vals[curve][legend]:\n",
    "            iterations += xs\n",
    "            solved_tasks += ys\n",
    "            model += [legend] * len(xs)\n",
    "    d = {\n",
    "            \"Iterations\" : iterations,\n",
    "            \"% Solved tasks\" : solved_tasks,\n",
    "            \"Model\" : model\n",
    "    }\n",
    "    return pd.DataFrame(data=d)"
   ]
  },
  {
   "cell_type": "code",
   "execution_count": 50,
   "metadata": {},
   "outputs": [
    {
     "data": {
      "text/plain": [
       "<Figure size 432x216 with 0 Axes>"
      ]
     },
     "metadata": {},
     "output_type": "display_data"
    },
    {
     "data": {
      "image/png": "[encoded data removed]",
      "text/plain": [
       "<Figure size 864x360 with 1 Axes>"
      ]
     },
     "metadata": {
      "needs_background": "light"
     },
     "output_type": "display_data"
    }
   ],
   "source": [
    "%matplotlib inline\n",
    "import seaborn as sns\n",
    "import pandas as pd\n",
    "import matplotlib.pyplot as plt\n",
    "import numpy as np\n",
    "for curve in curve_vals:\n",
    "    f = plt.figure(figsize=(6,3))\n",
    "    df = build_dataframe(curve_vals, curve)\n",
    "    ax = sns.relplot(x=\"Iterations\", y=\"% Solved tasks\",\n",
    "                hue=\"Model\", style=\"Model\",\n",
    "                kind=\"line\", data=df)\n",
    "    ax.fig.set_size_inches(12,5)\n",
    "    ax.axes[0,0].set_ylim(0, 80)\n",
    "    plt.title(f\"{curve}\")"
   ]
  },
  {
   "cell_type": "code",
   "execution_count": null,
   "metadata": {},
   "outputs": [],
   "source": []
  }
 ],
 "metadata": {
  "kernelspec": {
   "display_name": "Python 3",
   "language": "python",
   "name": "python3"
  },
  "language_info": {
   "codemirror_mode": {
    "name": "ipython",
    "version": 3
   },
   "file_extension": ".py",
   "mimetype": "text/x-python",
   "name": "python",
   "nbconvert_exporter": "python",
   "pygments_lexer": "ipython3",
   "version": "3.7.3"
  }
 },
 "nbformat": 4,
 "nbformat_minor": 4
}
